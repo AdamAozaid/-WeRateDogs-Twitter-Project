{
 "cells": [
  {
   "cell_type": "markdown",
   "id": "6e0945d1-cf2c-411b-9a44-f9180af341bc",
   "metadata": {},
   "source": [
    "## 🐕 WeRateDogs Twitter Project\n",
    "\n",
    "In this project, I will analyze and investigate three datasets related to WeRateDogs on Twitter. \n",
    "One of the datasets was scraped by me, while the other two were provided."
   ]
  },
  {
   "cell_type": "markdown",
   "id": "294bc258-7c1a-4934-9f85-bf1cc184c651",
   "metadata": {},
   "source": [
    "## Data Wrangling :"
   ]
  },
  {
   "cell_type": "markdown",
   "id": "2c24f7d1-da5c-4c18-9271-e5822a794661",
   "metadata": {},
   "source": [
    "### Importing Libraries :"
   ]
  },
  {
   "cell_type": "code",
   "execution_count": 1,
   "id": "0dce3827-fc91-48c2-ac80-d827f7ec2d83",
   "metadata": {},
   "outputs": [
    {
     "name": "stdout",
     "output_type": "stream",
     "text": [
      "Requirement already satisfied: tweepy in c:\\users\\eslam\\anaconda3\\lib\\site-packages (4.15.0)\n",
      "Requirement already satisfied: oauthlib<4,>=3.2.0 in c:\\users\\eslam\\anaconda3\\lib\\site-packages (from tweepy) (3.2.2)\n",
      "Requirement already satisfied: requests<3,>=2.27.0 in c:\\users\\eslam\\anaconda3\\lib\\site-packages (from tweepy) (2.31.0)\n",
      "Requirement already satisfied: requests-oauthlib<3,>=1.2.0 in c:\\users\\eslam\\anaconda3\\lib\\site-packages (from tweepy) (2.0.0)\n",
      "Requirement already satisfied: charset-normalizer<4,>=2 in c:\\users\\eslam\\anaconda3\\lib\\site-packages (from requests<3,>=2.27.0->tweepy) (2.0.4)\n",
      "Requirement already satisfied: idna<4,>=2.5 in c:\\users\\eslam\\anaconda3\\lib\\site-packages (from requests<3,>=2.27.0->tweepy) (3.4)\n",
      "Requirement already satisfied: urllib3<3,>=1.21.1 in c:\\users\\eslam\\anaconda3\\lib\\site-packages (from requests<3,>=2.27.0->tweepy) (2.0.7)\n",
      "Requirement already satisfied: certifi>=2017.4.17 in c:\\users\\eslam\\anaconda3\\lib\\site-packages (from requests<3,>=2.27.0->tweepy) (2025.1.31)\n"
     ]
    }
   ],
   "source": [
    "!pip install tweepy"
   ]
  },
  {
   "cell_type": "code",
   "execution_count": 2,
   "id": "d3dab4e1-f2fb-4179-8889-069242d9cc60",
   "metadata": {},
   "outputs": [],
   "source": [
    "#Importing Libiraries :\n",
    "import pandas as pd\n",
    "import numpy as np\n",
    "import requests\n",
    "from IPython.display import display\n",
    "import tweepy\n",
    "from tweepy import OAuthHandler\n",
    "import json\n",
    "from timeit import default_timer as timer\n",
    "import seaborn as sns \n",
    "import matplotlib.pyplot as plt\n",
    "%matplotlib inline"
   ]
  },
  {
   "cell_type": "code",
   "execution_count": 3,
   "id": "7c2e33f4-4662-4fbc-8a8e-180f6b836c17",
   "metadata": {},
   "outputs": [],
   "source": [
    "# Reading First Dataset\n",
    "df_archive= pd.read_csv(\"twitter-archive-enhanced.csv\")"
   ]
  },
  {
   "cell_type": "code",
   "execution_count": 4,
   "id": "0df2deea-27ee-49e2-83f6-a10ff3c1cfff",
   "metadata": {},
   "outputs": [],
   "source": [
    "# Downloading Sec Dataset programmatically Using Requests\n",
    "url = 'https://d17h27t6h515a5.cloudfront.net/topher/2017/August/599fd2ad_image-predictions/image-predictions.tsv'\n",
    "response = requests.get(url)\n",
    "\n",
    "with open('image-predictions.tsv', 'wb') as f:\n",
    "    f.write(response.content)\n",
    "    \n",
    "df_image = pd.read_csv('image-predictions.tsv', sep='\\t') "
   ]
  },
  {
   "cell_type": "code",
   "execution_count": 5,
   "id": "7d122423-c0fe-459f-9cc8-9bf9de8ae9e5",
   "metadata": {},
   "outputs": [],
   "source": [
    "#Third File \n",
    "tweets_data = []\n",
    "\n",
    "f = open('tweet-json.txt', 'r')\n",
    "for line in f:\n",
    "        dic = {}\n",
    "        tweet = json.loads(line)\n",
    "        dic[\"retweet count\"] = tweet[\"retweet_count\"]\n",
    "        dic[\"tweet id\"] = tweet[\"id\"]\n",
    "        dic['favorite count'] = tweet['favorite_count']\n",
    "        tweets_data.append(dic)\n",
    "f.close()"
   ]
  },
  {
   "cell_type": "code",
   "execution_count": 6,
   "id": "24102001-3236-4e06-9d5b-01e7da072fad",
   "metadata": {},
   "outputs": [],
   "source": [
    "df_json= pd.DataFrame(tweets_data)"
   ]
  },
  {
   "cell_type": "code",
   "execution_count": 7,
   "id": "11deb341-7256-443e-963d-5cad0292a937",
   "metadata": {},
   "outputs": [],
   "source": [
    "# Dataframes\n",
    "dataframes = {\n",
    "    \"archive\" : df_archive,\n",
    "    \"images\" : df_image,\n",
    "    \"json\" : df_json\n",
    "}"
   ]
  },
  {
   "cell_type": "code",
   "execution_count": 8,
   "id": "d1fc8864-9ad6-4bdd-8fed-104a81f84056",
   "metadata": {
    "scrolled": true
   },
   "outputs": [
    {
     "data": {
      "text/html": [
       "<div>\n",
       "<style scoped>\n",
       "    .dataframe tbody tr th:only-of-type {\n",
       "        vertical-align: middle;\n",
       "    }\n",
       "\n",
       "    .dataframe tbody tr th {\n",
       "        vertical-align: top;\n",
       "    }\n",
       "\n",
       "    .dataframe thead th {\n",
       "        text-align: right;\n",
       "    }\n",
       "</style>\n",
       "<table border=\"1\" class=\"dataframe\">\n",
       "  <thead>\n",
       "    <tr style=\"text-align: right;\">\n",
       "      <th></th>\n",
       "      <th>retweet count</th>\n",
       "      <th>tweet id</th>\n",
       "      <th>favorite count</th>\n",
       "    </tr>\n",
       "  </thead>\n",
       "  <tbody>\n",
       "    <tr>\n",
       "      <th>0</th>\n",
       "      <td>8853</td>\n",
       "      <td>892420643555336193</td>\n",
       "      <td>39467</td>\n",
       "    </tr>\n",
       "    <tr>\n",
       "      <th>1</th>\n",
       "      <td>6514</td>\n",
       "      <td>892177421306343426</td>\n",
       "      <td>33819</td>\n",
       "    </tr>\n",
       "    <tr>\n",
       "      <th>2</th>\n",
       "      <td>4328</td>\n",
       "      <td>891815181378084864</td>\n",
       "      <td>25461</td>\n",
       "    </tr>\n",
       "    <tr>\n",
       "      <th>3</th>\n",
       "      <td>8964</td>\n",
       "      <td>891689557279858688</td>\n",
       "      <td>42908</td>\n",
       "    </tr>\n",
       "    <tr>\n",
       "      <th>4</th>\n",
       "      <td>9774</td>\n",
       "      <td>891327558926688256</td>\n",
       "      <td>41048</td>\n",
       "    </tr>\n",
       "  </tbody>\n",
       "</table>\n",
       "</div>"
      ],
      "text/plain": [
       "   retweet count            tweet id  favorite count\n",
       "0           8853  892420643555336193           39467\n",
       "1           6514  892177421306343426           33819\n",
       "2           4328  891815181378084864           25461\n",
       "3           8964  891689557279858688           42908\n",
       "4           9774  891327558926688256           41048"
      ]
     },
     "execution_count": 8,
     "metadata": {},
     "output_type": "execute_result"
    }
   ],
   "source": [
    "df_json.head()"
   ]
  },
  {
   "cell_type": "markdown",
   "id": "4e473bd1-4e3c-456e-8479-f7386cf36292",
   "metadata": {},
   "source": [
    "## Exploration and Assessing Data : "
   ]
  },
  {
   "cell_type": "code",
   "execution_count": 39,
   "id": "7b4e7bd1-99b1-4a27-9173-291cbf585f50",
   "metadata": {
    "scrolled": true
   },
   "outputs": [
    {
     "name": "stdout",
     "output_type": "stream",
     "text": [
      "archive Dataset Info\n",
      "<class 'pandas.core.frame.DataFrame'>\n",
      "RangeIndex: 2356 entries, 0 to 2355\n",
      "Data columns (total 8 columns):\n",
      " #   Column         Non-Null Count  Dtype              \n",
      "---  ------         --------------  -----              \n",
      " 0   tweet_id       2356 non-null   int64              \n",
      " 1   timestamp      2356 non-null   datetime64[ns, UTC]\n",
      " 2   source         2356 non-null   object             \n",
      " 3   text           2356 non-null   object             \n",
      " 4   expanded_urls  2297 non-null   object             \n",
      " 5   name           1611 non-null   object             \n",
      " 6   dog_stage      380 non-null    object             \n",
      " 7   rating         2356 non-null   float64            \n",
      "dtypes: datetime64[ns, UTC](1), float64(1), int64(1), object(5)\n",
      "memory usage: 147.4+ KB\n"
     ]
    },
    {
     "data": {
      "text/html": [
       "<div>\n",
       "<style scoped>\n",
       "    .dataframe tbody tr th:only-of-type {\n",
       "        vertical-align: middle;\n",
       "    }\n",
       "\n",
       "    .dataframe tbody tr th {\n",
       "        vertical-align: top;\n",
       "    }\n",
       "\n",
       "    .dataframe thead th {\n",
       "        text-align: right;\n",
       "    }\n",
       "</style>\n",
       "<table border=\"1\" class=\"dataframe\">\n",
       "  <thead>\n",
       "    <tr style=\"text-align: right;\">\n",
       "      <th></th>\n",
       "      <th>tweet_id</th>\n",
       "      <th>timestamp</th>\n",
       "      <th>source</th>\n",
       "      <th>text</th>\n",
       "      <th>expanded_urls</th>\n",
       "      <th>name</th>\n",
       "      <th>dog_stage</th>\n",
       "      <th>rating</th>\n",
       "    </tr>\n",
       "  </thead>\n",
       "  <tbody>\n",
       "    <tr>\n",
       "      <th>0</th>\n",
       "      <td>892420643555336193</td>\n",
       "      <td>2017-08-01 16:23:56+00:00</td>\n",
       "      <td>&lt;a href=\"http://twitter.com/download/iphone\" r...</td>\n",
       "      <td>This is Phineas. He's a mystical boy. Only eve...</td>\n",
       "      <td>https://twitter.com/dog_rates/status/892420643...</td>\n",
       "      <td>Phineas</td>\n",
       "      <td>None</td>\n",
       "      <td>1.3</td>\n",
       "    </tr>\n",
       "    <tr>\n",
       "      <th>1</th>\n",
       "      <td>892177421306343426</td>\n",
       "      <td>2017-08-01 00:17:27+00:00</td>\n",
       "      <td>&lt;a href=\"http://twitter.com/download/iphone\" r...</td>\n",
       "      <td>This is Tilly. She's just checking pup on you....</td>\n",
       "      <td>https://twitter.com/dog_rates/status/892177421...</td>\n",
       "      <td>Tilly</td>\n",
       "      <td>None</td>\n",
       "      <td>1.3</td>\n",
       "    </tr>\n",
       "    <tr>\n",
       "      <th>2</th>\n",
       "      <td>891815181378084864</td>\n",
       "      <td>2017-07-31 00:18:03+00:00</td>\n",
       "      <td>&lt;a href=\"http://twitter.com/download/iphone\" r...</td>\n",
       "      <td>This is Archie. He is a rare Norwegian Pouncin...</td>\n",
       "      <td>https://twitter.com/dog_rates/status/891815181...</td>\n",
       "      <td>Archie</td>\n",
       "      <td>None</td>\n",
       "      <td>1.2</td>\n",
       "    </tr>\n",
       "    <tr>\n",
       "      <th>3</th>\n",
       "      <td>891689557279858688</td>\n",
       "      <td>2017-07-30 15:58:51+00:00</td>\n",
       "      <td>&lt;a href=\"http://twitter.com/download/iphone\" r...</td>\n",
       "      <td>This is Darla. She commenced a snooze mid meal...</td>\n",
       "      <td>https://twitter.com/dog_rates/status/891689557...</td>\n",
       "      <td>Darla</td>\n",
       "      <td>None</td>\n",
       "      <td>1.3</td>\n",
       "    </tr>\n",
       "    <tr>\n",
       "      <th>4</th>\n",
       "      <td>891327558926688256</td>\n",
       "      <td>2017-07-29 16:00:24+00:00</td>\n",
       "      <td>&lt;a href=\"http://twitter.com/download/iphone\" r...</td>\n",
       "      <td>This is Franklin. He would like you to stop ca...</td>\n",
       "      <td>https://twitter.com/dog_rates/status/891327558...</td>\n",
       "      <td>Franklin</td>\n",
       "      <td>None</td>\n",
       "      <td>1.2</td>\n",
       "    </tr>\n",
       "  </tbody>\n",
       "</table>\n",
       "</div>"
      ],
      "text/plain": [
       "             tweet_id                 timestamp  \\\n",
       "0  892420643555336193 2017-08-01 16:23:56+00:00   \n",
       "1  892177421306343426 2017-08-01 00:17:27+00:00   \n",
       "2  891815181378084864 2017-07-31 00:18:03+00:00   \n",
       "3  891689557279858688 2017-07-30 15:58:51+00:00   \n",
       "4  891327558926688256 2017-07-29 16:00:24+00:00   \n",
       "\n",
       "                                              source  \\\n",
       "0  <a href=\"http://twitter.com/download/iphone\" r...   \n",
       "1  <a href=\"http://twitter.com/download/iphone\" r...   \n",
       "2  <a href=\"http://twitter.com/download/iphone\" r...   \n",
       "3  <a href=\"http://twitter.com/download/iphone\" r...   \n",
       "4  <a href=\"http://twitter.com/download/iphone\" r...   \n",
       "\n",
       "                                                text  \\\n",
       "0  This is Phineas. He's a mystical boy. Only eve...   \n",
       "1  This is Tilly. She's just checking pup on you....   \n",
       "2  This is Archie. He is a rare Norwegian Pouncin...   \n",
       "3  This is Darla. She commenced a snooze mid meal...   \n",
       "4  This is Franklin. He would like you to stop ca...   \n",
       "\n",
       "                                       expanded_urls      name dog_stage  \\\n",
       "0  https://twitter.com/dog_rates/status/892420643...   Phineas      None   \n",
       "1  https://twitter.com/dog_rates/status/892177421...     Tilly      None   \n",
       "2  https://twitter.com/dog_rates/status/891815181...    Archie      None   \n",
       "3  https://twitter.com/dog_rates/status/891689557...     Darla      None   \n",
       "4  https://twitter.com/dog_rates/status/891327558...  Franklin      None   \n",
       "\n",
       "   rating  \n",
       "0     1.3  \n",
       "1     1.3  \n",
       "2     1.2  \n",
       "3     1.3  \n",
       "4     1.2  "
      ]
     },
     "metadata": {},
     "output_type": "display_data"
    },
    {
     "name": "stdout",
     "output_type": "stream",
     "text": [
      "images Dataset Info\n",
      "<class 'pandas.core.frame.DataFrame'>\n",
      "RangeIndex: 2075 entries, 0 to 2074\n",
      "Data columns (total 12 columns):\n",
      " #   Column    Non-Null Count  Dtype  \n",
      "---  ------    --------------  -----  \n",
      " 0   tweet_id  2075 non-null   int64  \n",
      " 1   jpg_url   2075 non-null   object \n",
      " 2   img_num   2075 non-null   int64  \n",
      " 3   p1        2075 non-null   object \n",
      " 4   p1_conf   2075 non-null   float64\n",
      " 5   p1_dog    2075 non-null   bool   \n",
      " 6   p2        2075 non-null   object \n",
      " 7   p2_conf   2075 non-null   float64\n",
      " 8   p2_dog    2075 non-null   bool   \n",
      " 9   p3        2075 non-null   object \n",
      " 10  p3_conf   2075 non-null   float64\n",
      " 11  p3_dog    2075 non-null   bool   \n",
      "dtypes: bool(3), float64(3), int64(2), object(4)\n",
      "memory usage: 152.1+ KB\n"
     ]
    },
    {
     "data": {
      "text/html": [
       "<div>\n",
       "<style scoped>\n",
       "    .dataframe tbody tr th:only-of-type {\n",
       "        vertical-align: middle;\n",
       "    }\n",
       "\n",
       "    .dataframe tbody tr th {\n",
       "        vertical-align: top;\n",
       "    }\n",
       "\n",
       "    .dataframe thead th {\n",
       "        text-align: right;\n",
       "    }\n",
       "</style>\n",
       "<table border=\"1\" class=\"dataframe\">\n",
       "  <thead>\n",
       "    <tr style=\"text-align: right;\">\n",
       "      <th></th>\n",
       "      <th>tweet_id</th>\n",
       "      <th>jpg_url</th>\n",
       "      <th>img_num</th>\n",
       "      <th>p1</th>\n",
       "      <th>p1_conf</th>\n",
       "      <th>p1_dog</th>\n",
       "      <th>p2</th>\n",
       "      <th>p2_conf</th>\n",
       "      <th>p2_dog</th>\n",
       "      <th>p3</th>\n",
       "      <th>p3_conf</th>\n",
       "      <th>p3_dog</th>\n",
       "    </tr>\n",
       "  </thead>\n",
       "  <tbody>\n",
       "    <tr>\n",
       "      <th>0</th>\n",
       "      <td>666020888022790149</td>\n",
       "      <td>https://pbs.twimg.com/media/CT4udn0WwAA0aMy.jpg</td>\n",
       "      <td>1</td>\n",
       "      <td>Welsh_springer_spaniel</td>\n",
       "      <td>0.465074</td>\n",
       "      <td>True</td>\n",
       "      <td>collie</td>\n",
       "      <td>0.156665</td>\n",
       "      <td>True</td>\n",
       "      <td>Shetland_sheepdog</td>\n",
       "      <td>0.061428</td>\n",
       "      <td>True</td>\n",
       "    </tr>\n",
       "    <tr>\n",
       "      <th>1</th>\n",
       "      <td>666029285002620928</td>\n",
       "      <td>https://pbs.twimg.com/media/CT42GRgUYAA5iDo.jpg</td>\n",
       "      <td>1</td>\n",
       "      <td>redbone</td>\n",
       "      <td>0.506826</td>\n",
       "      <td>True</td>\n",
       "      <td>miniature_pinscher</td>\n",
       "      <td>0.074192</td>\n",
       "      <td>True</td>\n",
       "      <td>Rhodesian_ridgeback</td>\n",
       "      <td>0.072010</td>\n",
       "      <td>True</td>\n",
       "    </tr>\n",
       "    <tr>\n",
       "      <th>2</th>\n",
       "      <td>666033412701032449</td>\n",
       "      <td>https://pbs.twimg.com/media/CT4521TWwAEvMyu.jpg</td>\n",
       "      <td>1</td>\n",
       "      <td>German_shepherd</td>\n",
       "      <td>0.596461</td>\n",
       "      <td>True</td>\n",
       "      <td>malinois</td>\n",
       "      <td>0.138584</td>\n",
       "      <td>True</td>\n",
       "      <td>bloodhound</td>\n",
       "      <td>0.116197</td>\n",
       "      <td>True</td>\n",
       "    </tr>\n",
       "    <tr>\n",
       "      <th>3</th>\n",
       "      <td>666044226329800704</td>\n",
       "      <td>https://pbs.twimg.com/media/CT5Dr8HUEAA-lEu.jpg</td>\n",
       "      <td>1</td>\n",
       "      <td>Rhodesian_ridgeback</td>\n",
       "      <td>0.408143</td>\n",
       "      <td>True</td>\n",
       "      <td>redbone</td>\n",
       "      <td>0.360687</td>\n",
       "      <td>True</td>\n",
       "      <td>miniature_pinscher</td>\n",
       "      <td>0.222752</td>\n",
       "      <td>True</td>\n",
       "    </tr>\n",
       "    <tr>\n",
       "      <th>4</th>\n",
       "      <td>666049248165822465</td>\n",
       "      <td>https://pbs.twimg.com/media/CT5IQmsXIAAKY4A.jpg</td>\n",
       "      <td>1</td>\n",
       "      <td>miniature_pinscher</td>\n",
       "      <td>0.560311</td>\n",
       "      <td>True</td>\n",
       "      <td>Rottweiler</td>\n",
       "      <td>0.243682</td>\n",
       "      <td>True</td>\n",
       "      <td>Doberman</td>\n",
       "      <td>0.154629</td>\n",
       "      <td>True</td>\n",
       "    </tr>\n",
       "  </tbody>\n",
       "</table>\n",
       "</div>"
      ],
      "text/plain": [
       "             tweet_id                                          jpg_url  \\\n",
       "0  666020888022790149  https://pbs.twimg.com/media/CT4udn0WwAA0aMy.jpg   \n",
       "1  666029285002620928  https://pbs.twimg.com/media/CT42GRgUYAA5iDo.jpg   \n",
       "2  666033412701032449  https://pbs.twimg.com/media/CT4521TWwAEvMyu.jpg   \n",
       "3  666044226329800704  https://pbs.twimg.com/media/CT5Dr8HUEAA-lEu.jpg   \n",
       "4  666049248165822465  https://pbs.twimg.com/media/CT5IQmsXIAAKY4A.jpg   \n",
       "\n",
       "   img_num                      p1   p1_conf  p1_dog                  p2  \\\n",
       "0        1  Welsh_springer_spaniel  0.465074    True              collie   \n",
       "1        1                 redbone  0.506826    True  miniature_pinscher   \n",
       "2        1         German_shepherd  0.596461    True            malinois   \n",
       "3        1     Rhodesian_ridgeback  0.408143    True             redbone   \n",
       "4        1      miniature_pinscher  0.560311    True          Rottweiler   \n",
       "\n",
       "    p2_conf  p2_dog                   p3   p3_conf  p3_dog  \n",
       "0  0.156665    True    Shetland_sheepdog  0.061428    True  \n",
       "1  0.074192    True  Rhodesian_ridgeback  0.072010    True  \n",
       "2  0.138584    True           bloodhound  0.116197    True  \n",
       "3  0.360687    True   miniature_pinscher  0.222752    True  \n",
       "4  0.243682    True             Doberman  0.154629    True  "
      ]
     },
     "metadata": {},
     "output_type": "display_data"
    },
    {
     "name": "stdout",
     "output_type": "stream",
     "text": [
      "json Dataset Info\n",
      "<class 'pandas.core.frame.DataFrame'>\n",
      "RangeIndex: 2354 entries, 0 to 2353\n",
      "Data columns (total 3 columns):\n",
      " #   Column          Non-Null Count  Dtype\n",
      "---  ------          --------------  -----\n",
      " 0   retweet count   2354 non-null   int64\n",
      " 1   favorite count  2354 non-null   int64\n",
      " 2   tweet_id        2354 non-null   int64\n",
      "dtypes: int64(3)\n",
      "memory usage: 55.3 KB\n"
     ]
    },
    {
     "data": {
      "text/html": [
       "<div>\n",
       "<style scoped>\n",
       "    .dataframe tbody tr th:only-of-type {\n",
       "        vertical-align: middle;\n",
       "    }\n",
       "\n",
       "    .dataframe tbody tr th {\n",
       "        vertical-align: top;\n",
       "    }\n",
       "\n",
       "    .dataframe thead th {\n",
       "        text-align: right;\n",
       "    }\n",
       "</style>\n",
       "<table border=\"1\" class=\"dataframe\">\n",
       "  <thead>\n",
       "    <tr style=\"text-align: right;\">\n",
       "      <th></th>\n",
       "      <th>retweet count</th>\n",
       "      <th>favorite count</th>\n",
       "      <th>tweet_id</th>\n",
       "    </tr>\n",
       "  </thead>\n",
       "  <tbody>\n",
       "    <tr>\n",
       "      <th>0</th>\n",
       "      <td>8853</td>\n",
       "      <td>39467</td>\n",
       "      <td>892420643555336193</td>\n",
       "    </tr>\n",
       "    <tr>\n",
       "      <th>1</th>\n",
       "      <td>6514</td>\n",
       "      <td>33819</td>\n",
       "      <td>892177421306343426</td>\n",
       "    </tr>\n",
       "    <tr>\n",
       "      <th>2</th>\n",
       "      <td>4328</td>\n",
       "      <td>25461</td>\n",
       "      <td>891815181378084864</td>\n",
       "    </tr>\n",
       "    <tr>\n",
       "      <th>3</th>\n",
       "      <td>8964</td>\n",
       "      <td>42908</td>\n",
       "      <td>891689557279858688</td>\n",
       "    </tr>\n",
       "    <tr>\n",
       "      <th>4</th>\n",
       "      <td>9774</td>\n",
       "      <td>41048</td>\n",
       "      <td>891327558926688256</td>\n",
       "    </tr>\n",
       "  </tbody>\n",
       "</table>\n",
       "</div>"
      ],
      "text/plain": [
       "   retweet count  favorite count            tweet_id\n",
       "0           8853           39467  892420643555336193\n",
       "1           6514           33819  892177421306343426\n",
       "2           4328           25461  891815181378084864\n",
       "3           8964           42908  891689557279858688\n",
       "4           9774           41048  891327558926688256"
      ]
     },
     "metadata": {},
     "output_type": "display_data"
    }
   ],
   "source": [
    "for name ,df in dataframes.items():\n",
    "    print(f'{name} Dataset Info')\n",
    "    df.info()\n",
    "    display(df.head())"
   ]
  },
  {
   "cell_type": "code",
   "execution_count": 114,
   "id": "71c25f28-6ae7-45c7-9a26-66a19c4d9281",
   "metadata": {
    "scrolled": true
   },
   "outputs": [
    {
     "name": "stdout",
     "output_type": "stream",
     "text": [
      "archive DataSet \n"
     ]
    },
    {
     "data": {
      "text/plain": [
       "tweet_id            0\n",
       "timestamp           0\n",
       "source              0\n",
       "text                0\n",
       "expanded_urls       0\n",
       "name              493\n",
       "dog_stage        1426\n",
       "rating              0\n",
       "dtype: int64"
      ]
     },
     "metadata": {},
     "output_type": "display_data"
    },
    {
     "data": {
      "text/plain": [
       "'\\n'"
      ]
     },
     "metadata": {},
     "output_type": "display_data"
    },
    {
     "name": "stdout",
     "output_type": "stream",
     "text": [
      "images DataSet \n"
     ]
    },
    {
     "data": {
      "text/plain": [
       "tweet_id    0\n",
       "jpg_url     0\n",
       "img_num     0\n",
       "p1          0\n",
       "p1_conf     0\n",
       "p1_dog      0\n",
       "p2          0\n",
       "p2_conf     0\n",
       "p2_dog      0\n",
       "p3          0\n",
       "p3_conf     0\n",
       "p3_dog      0\n",
       "dtype: int64"
      ]
     },
     "metadata": {},
     "output_type": "display_data"
    },
    {
     "data": {
      "text/plain": [
       "'\\n'"
      ]
     },
     "metadata": {},
     "output_type": "display_data"
    },
    {
     "name": "stdout",
     "output_type": "stream",
     "text": [
      "json DataSet \n"
     ]
    },
    {
     "data": {
      "text/plain": [
       "retweet count     0\n",
       "favorite count    0\n",
       "tweet_id          0\n",
       "dtype: int64"
      ]
     },
     "metadata": {},
     "output_type": "display_data"
    },
    {
     "data": {
      "text/plain": [
       "'\\n'"
      ]
     },
     "metadata": {},
     "output_type": "display_data"
    }
   ],
   "source": [
    "for name,df in dataframes.items():\n",
    "    print(f\"{name} DataSet \")\n",
    "    display(df.isnull().sum(),\"\\n\")"
   ]
  },
  {
   "cell_type": "code",
   "execution_count": 115,
   "id": "682165cc-6518-4f06-b2e2-88e2f298baa3",
   "metadata": {
    "scrolled": true
   },
   "outputs": [
    {
     "name": "stdout",
     "output_type": "stream",
     "text": [
      "archive DataSet\n"
     ]
    },
    {
     "data": {
      "text/html": [
       "<div>\n",
       "<style scoped>\n",
       "    .dataframe tbody tr th:only-of-type {\n",
       "        vertical-align: middle;\n",
       "    }\n",
       "\n",
       "    .dataframe tbody tr th {\n",
       "        vertical-align: top;\n",
       "    }\n",
       "\n",
       "    .dataframe thead th {\n",
       "        text-align: right;\n",
       "    }\n",
       "</style>\n",
       "<table border=\"1\" class=\"dataframe\">\n",
       "  <thead>\n",
       "    <tr style=\"text-align: right;\">\n",
       "      <th></th>\n",
       "      <th>tweet_id</th>\n",
       "      <th>timestamp</th>\n",
       "      <th>source</th>\n",
       "      <th>text</th>\n",
       "      <th>expanded_urls</th>\n",
       "      <th>name</th>\n",
       "      <th>dog_stage</th>\n",
       "      <th>rating</th>\n",
       "    </tr>\n",
       "  </thead>\n",
       "  <tbody>\n",
       "    <tr>\n",
       "      <th>1737</th>\n",
       "      <td>679530280114372609</td>\n",
       "      <td>2015-12-23 05:13:38</td>\n",
       "      <td>&lt;a href=\"http://twitter.com/download/iphone\" r...</td>\n",
       "      <td>Guys this really needs to stop. We've been ove...</td>\n",
       "      <td>https://twitter.com/dog_rates/status/679530280...</td>\n",
       "      <td>NaN</td>\n",
       "      <td>None</td>\n",
       "      <td>0.7</td>\n",
       "    </tr>\n",
       "    <tr>\n",
       "      <th>2020</th>\n",
       "      <td>672095186491711488</td>\n",
       "      <td>2015-12-02 16:49:14</td>\n",
       "      <td>&lt;a href=\"http://twitter.com/download/iphone\" r...</td>\n",
       "      <td>This is Tuco. That's the toast that killed his...</td>\n",
       "      <td>https://twitter.com/dog_rates/status/672095186...</td>\n",
       "      <td>Tuco</td>\n",
       "      <td>None</td>\n",
       "      <td>0.9</td>\n",
       "    </tr>\n",
       "    <tr>\n",
       "      <th>47</th>\n",
       "      <td>883117836046086144</td>\n",
       "      <td>2017-07-07 00:17:54</td>\n",
       "      <td>&lt;a href=\"http://twitter.com/download/iphone\" r...</td>\n",
       "      <td>Please only send dogs. We don't rate mechanics...</td>\n",
       "      <td>https://twitter.com/dog_rates/status/883117836...</td>\n",
       "      <td>NaN</td>\n",
       "      <td>None</td>\n",
       "      <td>1.3</td>\n",
       "    </tr>\n",
       "    <tr>\n",
       "      <th>1789</th>\n",
       "      <td>677547928504967168</td>\n",
       "      <td>2015-12-17 17:56:29</td>\n",
       "      <td>&lt;a href=\"http://twitter.com/download/iphone\" r...</td>\n",
       "      <td>Not much to say here. I just think everyone ne...</td>\n",
       "      <td>https://twitter.com/dog_rates/status/677547928...</td>\n",
       "      <td>NaN</td>\n",
       "      <td>None</td>\n",
       "      <td>1.2</td>\n",
       "    </tr>\n",
       "    <tr>\n",
       "      <th>1187</th>\n",
       "      <td>718460005985447936</td>\n",
       "      <td>2016-04-08 15:26:28</td>\n",
       "      <td>&lt;a href=\"http://twitter.com/download/iphone\" r...</td>\n",
       "      <td>Meet Bowie. He's listening for underground squ...</td>\n",
       "      <td>https://twitter.com/dog_rates/status/718460005...</td>\n",
       "      <td>Bowie</td>\n",
       "      <td>None</td>\n",
       "      <td>0.9</td>\n",
       "    </tr>\n",
       "  </tbody>\n",
       "</table>\n",
       "</div>"
      ],
      "text/plain": [
       "                tweet_id           timestamp  \\\n",
       "1737  679530280114372609 2015-12-23 05:13:38   \n",
       "2020  672095186491711488 2015-12-02 16:49:14   \n",
       "47    883117836046086144 2017-07-07 00:17:54   \n",
       "1789  677547928504967168 2015-12-17 17:56:29   \n",
       "1187  718460005985447936 2016-04-08 15:26:28   \n",
       "\n",
       "                                                 source  \\\n",
       "1737  <a href=\"http://twitter.com/download/iphone\" r...   \n",
       "2020  <a href=\"http://twitter.com/download/iphone\" r...   \n",
       "47    <a href=\"http://twitter.com/download/iphone\" r...   \n",
       "1789  <a href=\"http://twitter.com/download/iphone\" r...   \n",
       "1187  <a href=\"http://twitter.com/download/iphone\" r...   \n",
       "\n",
       "                                                   text  \\\n",
       "1737  Guys this really needs to stop. We've been ove...   \n",
       "2020  This is Tuco. That's the toast that killed his...   \n",
       "47    Please only send dogs. We don't rate mechanics...   \n",
       "1789  Not much to say here. I just think everyone ne...   \n",
       "1187  Meet Bowie. He's listening for underground squ...   \n",
       "\n",
       "                                          expanded_urls   name dog_stage  \\\n",
       "1737  https://twitter.com/dog_rates/status/679530280...    NaN      None   \n",
       "2020  https://twitter.com/dog_rates/status/672095186...   Tuco      None   \n",
       "47    https://twitter.com/dog_rates/status/883117836...    NaN      None   \n",
       "1789  https://twitter.com/dog_rates/status/677547928...    NaN      None   \n",
       "1187  https://twitter.com/dog_rates/status/718460005...  Bowie      None   \n",
       "\n",
       "      rating  \n",
       "1737     0.7  \n",
       "2020     0.9  \n",
       "47       1.3  \n",
       "1789     1.2  \n",
       "1187     0.9  "
      ]
     },
     "metadata": {},
     "output_type": "display_data"
    },
    {
     "name": "stdout",
     "output_type": "stream",
     "text": [
      "images DataSet\n"
     ]
    },
    {
     "data": {
      "text/html": [
       "<div>\n",
       "<style scoped>\n",
       "    .dataframe tbody tr th:only-of-type {\n",
       "        vertical-align: middle;\n",
       "    }\n",
       "\n",
       "    .dataframe tbody tr th {\n",
       "        vertical-align: top;\n",
       "    }\n",
       "\n",
       "    .dataframe thead th {\n",
       "        text-align: right;\n",
       "    }\n",
       "</style>\n",
       "<table border=\"1\" class=\"dataframe\">\n",
       "  <thead>\n",
       "    <tr style=\"text-align: right;\">\n",
       "      <th></th>\n",
       "      <th>tweet_id</th>\n",
       "      <th>jpg_url</th>\n",
       "      <th>img_num</th>\n",
       "      <th>p1</th>\n",
       "      <th>p1_conf</th>\n",
       "      <th>p1_dog</th>\n",
       "      <th>p2</th>\n",
       "      <th>p2_conf</th>\n",
       "      <th>p2_dog</th>\n",
       "      <th>p3</th>\n",
       "      <th>p3_conf</th>\n",
       "      <th>p3_dog</th>\n",
       "    </tr>\n",
       "  </thead>\n",
       "  <tbody>\n",
       "    <tr>\n",
       "      <th>1812</th>\n",
       "      <td>833124694597443584</td>\n",
       "      <td>https://pbs.twimg.com/media/C4_ad1IUoAEspsk.jpg</td>\n",
       "      <td>3</td>\n",
       "      <td>Cardigan</td>\n",
       "      <td>0.710523</td>\n",
       "      <td>True</td>\n",
       "      <td>kelpie</td>\n",
       "      <td>0.106102</td>\n",
       "      <td>True</td>\n",
       "      <td>shopping_cart</td>\n",
       "      <td>0.055475</td>\n",
       "      <td>False</td>\n",
       "    </tr>\n",
       "    <tr>\n",
       "      <th>1573</th>\n",
       "      <td>795400264262053889</td>\n",
       "      <td>https://pbs.twimg.com/media/CwnUUGTWIAE8sFR.jpg</td>\n",
       "      <td>2</td>\n",
       "      <td>golden_retriever</td>\n",
       "      <td>0.925494</td>\n",
       "      <td>True</td>\n",
       "      <td>Labrador_retriever</td>\n",
       "      <td>0.059241</td>\n",
       "      <td>True</td>\n",
       "      <td>tennis_ball</td>\n",
       "      <td>0.004495</td>\n",
       "      <td>False</td>\n",
       "    </tr>\n",
       "    <tr>\n",
       "      <th>1865</th>\n",
       "      <td>843235543001513987</td>\n",
       "      <td>https://pbs.twimg.com/media/C7PGQJAWwAAibui.jpg</td>\n",
       "      <td>1</td>\n",
       "      <td>Pembroke</td>\n",
       "      <td>0.958452</td>\n",
       "      <td>True</td>\n",
       "      <td>Cardigan</td>\n",
       "      <td>0.023770</td>\n",
       "      <td>True</td>\n",
       "      <td>Chihuahua</td>\n",
       "      <td>0.005269</td>\n",
       "      <td>True</td>\n",
       "    </tr>\n",
       "    <tr>\n",
       "      <th>1555</th>\n",
       "      <td>793195938047070209</td>\n",
       "      <td>https://pbs.twimg.com/media/CwH_foYWgAEvTyI.jpg</td>\n",
       "      <td>2</td>\n",
       "      <td>Labrador_retriever</td>\n",
       "      <td>0.654762</td>\n",
       "      <td>True</td>\n",
       "      <td>golden_retriever</td>\n",
       "      <td>0.074100</td>\n",
       "      <td>True</td>\n",
       "      <td>Chihuahua</td>\n",
       "      <td>0.042339</td>\n",
       "      <td>True</td>\n",
       "    </tr>\n",
       "    <tr>\n",
       "      <th>1266</th>\n",
       "      <td>749395845976588288</td>\n",
       "      <td>https://pbs.twimg.com/media/CmZjizYW8AA3FCN.jpg</td>\n",
       "      <td>1</td>\n",
       "      <td>Pomeranian</td>\n",
       "      <td>0.973715</td>\n",
       "      <td>True</td>\n",
       "      <td>chow</td>\n",
       "      <td>0.020758</td>\n",
       "      <td>True</td>\n",
       "      <td>keeshond</td>\n",
       "      <td>0.003784</td>\n",
       "      <td>True</td>\n",
       "    </tr>\n",
       "  </tbody>\n",
       "</table>\n",
       "</div>"
      ],
      "text/plain": [
       "                tweet_id                                          jpg_url  \\\n",
       "1812  833124694597443584  https://pbs.twimg.com/media/C4_ad1IUoAEspsk.jpg   \n",
       "1573  795400264262053889  https://pbs.twimg.com/media/CwnUUGTWIAE8sFR.jpg   \n",
       "1865  843235543001513987  https://pbs.twimg.com/media/C7PGQJAWwAAibui.jpg   \n",
       "1555  793195938047070209  https://pbs.twimg.com/media/CwH_foYWgAEvTyI.jpg   \n",
       "1266  749395845976588288  https://pbs.twimg.com/media/CmZjizYW8AA3FCN.jpg   \n",
       "\n",
       "      img_num                  p1   p1_conf  p1_dog                  p2  \\\n",
       "1812        3            Cardigan  0.710523    True              kelpie   \n",
       "1573        2    golden_retriever  0.925494    True  Labrador_retriever   \n",
       "1865        1            Pembroke  0.958452    True            Cardigan   \n",
       "1555        2  Labrador_retriever  0.654762    True    golden_retriever   \n",
       "1266        1          Pomeranian  0.973715    True                chow   \n",
       "\n",
       "       p2_conf  p2_dog             p3   p3_conf  p3_dog  \n",
       "1812  0.106102    True  shopping_cart  0.055475   False  \n",
       "1573  0.059241    True    tennis_ball  0.004495   False  \n",
       "1865  0.023770    True      Chihuahua  0.005269    True  \n",
       "1555  0.074100    True      Chihuahua  0.042339    True  \n",
       "1266  0.020758    True       keeshond  0.003784    True  "
      ]
     },
     "metadata": {},
     "output_type": "display_data"
    },
    {
     "name": "stdout",
     "output_type": "stream",
     "text": [
      "json DataSet\n"
     ]
    },
    {
     "data": {
      "text/html": [
       "<div>\n",
       "<style scoped>\n",
       "    .dataframe tbody tr th:only-of-type {\n",
       "        vertical-align: middle;\n",
       "    }\n",
       "\n",
       "    .dataframe tbody tr th {\n",
       "        vertical-align: top;\n",
       "    }\n",
       "\n",
       "    .dataframe thead th {\n",
       "        text-align: right;\n",
       "    }\n",
       "</style>\n",
       "<table border=\"1\" class=\"dataframe\">\n",
       "  <thead>\n",
       "    <tr style=\"text-align: right;\">\n",
       "      <th></th>\n",
       "      <th>retweet count</th>\n",
       "      <th>favorite count</th>\n",
       "      <th>tweet_id</th>\n",
       "    </tr>\n",
       "  </thead>\n",
       "  <tbody>\n",
       "    <tr>\n",
       "      <th>1530</th>\n",
       "      <td>1907</td>\n",
       "      <td>4004</td>\n",
       "      <td>690005060500217858</td>\n",
       "    </tr>\n",
       "    <tr>\n",
       "      <th>646</th>\n",
       "      <td>2893</td>\n",
       "      <td>7214</td>\n",
       "      <td>793135492858580992</td>\n",
       "    </tr>\n",
       "    <tr>\n",
       "      <th>1399</th>\n",
       "      <td>577</td>\n",
       "      <td>2384</td>\n",
       "      <td>699434518667751424</td>\n",
       "    </tr>\n",
       "    <tr>\n",
       "      <th>2110</th>\n",
       "      <td>570</td>\n",
       "      <td>1127</td>\n",
       "      <td>670435821946826752</td>\n",
       "    </tr>\n",
       "    <tr>\n",
       "      <th>700</th>\n",
       "      <td>179</td>\n",
       "      <td>1614</td>\n",
       "      <td>786051337297522688</td>\n",
       "    </tr>\n",
       "  </tbody>\n",
       "</table>\n",
       "</div>"
      ],
      "text/plain": [
       "      retweet count  favorite count            tweet_id\n",
       "1530           1907            4004  690005060500217858\n",
       "646            2893            7214  793135492858580992\n",
       "1399            577            2384  699434518667751424\n",
       "2110            570            1127  670435821946826752\n",
       "700             179            1614  786051337297522688"
      ]
     },
     "metadata": {},
     "output_type": "display_data"
    }
   ],
   "source": [
    "for name,df in dataframes.items():\n",
    "    print(f\"{name} DataSet\")\n",
    "    display(df.sample(5))"
   ]
  },
  {
   "cell_type": "code",
   "execution_count": 116,
   "id": "e7f35032-4055-415e-8864-e166a56d7776",
   "metadata": {
    "scrolled": true
   },
   "outputs": [
    {
     "data": {
      "text/plain": [
       "dog_stage\n",
       "pupper           168\n",
       "doggo             54\n",
       "puppo             21\n",
       "doggo/pupper       8\n",
       "floofer            7\n",
       "doggo/puppo        1\n",
       "doggo/floofer      1\n",
       "Name: count, dtype: int64"
      ]
     },
     "execution_count": 116,
     "metadata": {},
     "output_type": "execute_result"
    }
   ],
   "source": [
    "df_archive['dog_stage'].value_counts()"
   ]
  },
  {
   "cell_type": "code",
   "execution_count": 107,
   "id": "55f868e5-74ba-4b4e-a0df-e37e539afda8",
   "metadata": {},
   "outputs": [
    {
     "data": {
      "text/plain": [
       "583     True\n",
       "449     True\n",
       "360     True\n",
       "2043    True\n",
       "1031    True\n",
       "Name: p1_dog, dtype: bool"
      ]
     },
     "execution_count": 107,
     "metadata": {},
     "output_type": "execute_result"
    }
   ],
   "source": [
    "df_image['p1_dog'].sample(5)"
   ]
  },
  {
   "cell_type": "code",
   "execution_count": 9,
   "id": "75a5af14-0227-4383-9046-34a276a44dda",
   "metadata": {},
   "outputs": [],
   "source": [
    "#Making a Copy before Cleaning\n",
    "dataframes_copy = dataframes.copy()"
   ]
  },
  {
   "cell_type": "markdown",
   "id": "b8aad858-9abf-40e9-a85d-e1b4e119a809",
   "metadata": {},
   "source": [
    "# Cleaning Data"
   ]
  },
  {
   "cell_type": "markdown",
   "id": "c762a5e8-5b36-458f-af68-6bf3e0547e12",
   "metadata": {},
   "source": [
    "### Tidiness and Quality Issues Identified\n",
    "- The three datasets (`df_archive`, `df_image`, `df_json`) all contain information about the same observational unit (tweets) and need to be merged into one master dataset.\n",
    "- Retweets are present and must be removed (they start with `RT @` in the `text` column).\n",
    "- Dog stages are split into separate columns (doggo, floofer, pupper, puppo) instead of a single categorical column.\n",
    "- Some dog names are incorrect (e.g., \"a\", \"an\", \"the\", or \"None\")."
   ]
  },
  {
   "cell_type": "markdown",
   "id": "7d2ff35f-b73d-428d-8a9d-02566d64e4a7",
   "metadata": {},
   "source": [
    "## Quality Issues :"
   ]
  },
  {
   "cell_type": "markdown",
   "id": "4d80d14b-c3da-4608-bc67-b5004a947bc0",
   "metadata": {},
   "source": [
    "### 1- Define: Removing some unuseful columns in \"Archive\" DataSet"
   ]
  },
  {
   "cell_type": "code",
   "execution_count": 13,
   "id": "8f938161-3cb3-4a86-8000-c052cab4a689",
   "metadata": {
    "scrolled": true
   },
   "outputs": [],
   "source": [
    "df_archive.drop(['in_reply_to_status_id',\n",
    "               'in_reply_to_user_id',\n",
    "               'retweeted_status_id',\n",
    "               'retweeted_status_user_id',\n",
    "               'retweeted_status_timestamp',\n",
    "               'rating_numerator',\n",
    "               'rating_denominator'], inplace=True, axis=1)"
   ]
  },
  {
   "cell_type": "markdown",
   "id": "5bf578d8-1605-4931-b73c-986c6255ebd2",
   "metadata": {},
   "source": [
    "### Test: Confirm Columns Are Dropped\n"
   ]
  },
  {
   "cell_type": "code",
   "execution_count": 14,
   "id": "3bb283c1-7a8e-442f-89b9-6dbfaf6880f3",
   "metadata": {},
   "outputs": [
    {
     "name": "stdout",
     "output_type": "stream",
     "text": [
      "Index(['tweet_id', 'timestamp', 'source', 'text', 'expanded_urls', 'name',\n",
      "       'doggo', 'floofer', 'pupper', 'puppo', 'dog_stage', 'rating'],\n",
      "      dtype='object')\n"
     ]
    }
   ],
   "source": [
    "#Testing\n",
    "print(df_archive.columns)"
   ]
  },
  {
   "cell_type": "markdown",
   "id": "432e8743-2534-4c68-9646-d4c50ce4ef29",
   "metadata": {},
   "source": [
    "### 2- Define: Removing The 4 columns after I combined them into one column called dog_stage"
   ]
  },
  {
   "cell_type": "code",
   "execution_count": 15,
   "id": "3addf3a3-80b1-4b07-9e4e-9e7522f885f9",
   "metadata": {},
   "outputs": [],
   "source": [
    "df_archive.drop([\n",
    "    'doggo',\n",
    "    'floofer',\t\n",
    "    'pupper',\n",
    "    'puppo'\n",
    "], inplace=True, axis=1)"
   ]
  },
  {
   "cell_type": "markdown",
   "id": "00501a51-9aba-441d-a1c0-dc2c81e2ea3e",
   "metadata": {},
   "source": [
    "### Test: Confirm Columns Are Dropped"
   ]
  },
  {
   "cell_type": "code",
   "execution_count": 16,
   "id": "750677cb-082d-40b5-b37d-43013b821e65",
   "metadata": {},
   "outputs": [
    {
     "name": "stdout",
     "output_type": "stream",
     "text": [
      "Index(['tweet_id', 'timestamp', 'source', 'text', 'expanded_urls', 'name',\n",
      "       'dog_stage', 'rating'],\n",
      "      dtype='object')\n"
     ]
    }
   ],
   "source": [
    "#Testing\n",
    "print(df_archive.columns)"
   ]
  },
  {
   "cell_type": "markdown",
   "id": "5a46389d-e884-47fb-ba45-38bcf1e36205",
   "metadata": {},
   "source": [
    "### 3- Define: In \"Archive\" Dataset Converting Timestamp column to datatime"
   ]
  },
  {
   "cell_type": "code",
   "execution_count": 17,
   "id": "cd014f56-babb-4601-a6eb-6678a39b18d6",
   "metadata": {},
   "outputs": [],
   "source": [
    "df_archive['timestamp'] = df_archive['timestamp'].astype('str')"
   ]
  },
  {
   "cell_type": "code",
   "execution_count": 18,
   "id": "262ff7c5-1fb6-4949-9e91-e2260772c90d",
   "metadata": {
    "scrolled": true
   },
   "outputs": [],
   "source": [
    "df_archive['timestamp']=df_archive['timestamp'].str.replace(\"+00:00\",\"\")"
   ]
  },
  {
   "cell_type": "code",
   "execution_count": 19,
   "id": "d6639b69-0ad8-4c3e-bc78-fa3dee671ae9",
   "metadata": {},
   "outputs": [],
   "source": [
    "df_archive['timestamp'] = pd.to_datetime(df_archive['timestamp'])"
   ]
  },
  {
   "cell_type": "markdown",
   "id": "b29539b3-922e-4aaf-8571-9f51120dea05",
   "metadata": {},
   "source": [
    "### Test: Check DataType Of TimeStamp"
   ]
  },
  {
   "cell_type": "code",
   "execution_count": 20,
   "id": "2a994e76-44fc-4c1b-936d-518d15c8889f",
   "metadata": {},
   "outputs": [
    {
     "data": {
      "text/plain": [
       "tweet_id                       int64\n",
       "timestamp        datetime64[ns, UTC]\n",
       "source                        object\n",
       "text                          object\n",
       "expanded_urls                 object\n",
       "name                          object\n",
       "dog_stage                     object\n",
       "rating                       float64\n",
       "dtype: object"
      ]
     },
     "execution_count": 20,
     "metadata": {},
     "output_type": "execute_result"
    }
   ],
   "source": [
    "#Testing\n",
    "df_archive.dtypes"
   ]
  },
  {
   "cell_type": "markdown",
   "id": "62082475-dfe4-4394-9013-c97ffd4597e5",
   "metadata": {},
   "source": [
    "### 4- Define: There are more tweet IDs in the \"Archive\" dataset than in the \"Image\" dataset. This means some tweets in the Archive dataset don't have  image predictions.\n",
    "\n",
    "To fix this, I removed the tweets from the Archive dataset that don't have a matching tweet ID in the Image dataset. This ensures all remaining tweets have image data."
   ]
  },
  {
   "cell_type": "code",
   "execution_count": 21,
   "id": "f294c55e-d7be-4706-94b0-a6419a3947c7",
   "metadata": {},
   "outputs": [],
   "source": [
    "df_archive = df_archive[df_archive['tweet_id'].isin(df_image['tweet_id'])]"
   ]
  },
  {
   "cell_type": "markdown",
   "id": "b474e950-5da7-46ed-a3e8-66909afa8304",
   "metadata": {},
   "source": [
    "### Test: Check Data Shape Of Archive"
   ]
  },
  {
   "cell_type": "code",
   "execution_count": 22,
   "id": "2331a2a1-d85f-40c0-9ab9-a3b8c260eba8",
   "metadata": {},
   "outputs": [
    {
     "name": "stdout",
     "output_type": "stream",
     "text": [
      "(2075, 8)\n"
     ]
    }
   ],
   "source": [
    "#Testing\n",
    "print(df_archive.shape)"
   ]
  },
  {
   "cell_type": "markdown",
   "id": "677fc8e2-c885-4013-9e53-ac66475d6680",
   "metadata": {},
   "source": [
    "### 5- Define: Some rows in the Image dataset don't contain dogs in the predictions.\n",
    "\n",
    "Solution:\n",
    "I kept only the rows where at least one of the top three predictions is True."
   ]
  },
  {
   "cell_type": "code",
   "execution_count": 23,
   "id": "4e5f3faa-9934-46f8-9f7c-46d30dc14189",
   "metadata": {},
   "outputs": [],
   "source": [
    "df_image = df_image[(df_image['p1_dog']) | (df_image['p2_dog']) | (df_image['p3_dog'])]"
   ]
  },
  {
   "cell_type": "markdown",
   "id": "cb36ae1d-5a5d-4f2b-8a2f-d518723f87fb",
   "metadata": {},
   "source": [
    "### Test: Check Data Shape Of Archive"
   ]
  },
  {
   "cell_type": "code",
   "execution_count": 24,
   "id": "8f3cb2d3-d914-44c4-ad1a-71076d902b87",
   "metadata": {},
   "outputs": [
    {
     "name": "stdout",
     "output_type": "stream",
     "text": [
      "(1751, 12)\n"
     ]
    }
   ],
   "source": [
    "#Testing\n",
    "print(df_image.shape)"
   ]
  },
  {
   "cell_type": "markdown",
   "id": "74b69ac9-13eb-4808-a1fb-bd37b9b5069d",
   "metadata": {},
   "source": [
    "### 6- Define: Removing invalid names in \"Archive\" DataSet"
   ]
  },
  {
   "cell_type": "code",
   "execution_count": 25,
   "id": "a94db65d-03aa-4769-a69d-9af9ec46cb12",
   "metadata": {
    "scrolled": true
   },
   "outputs": [
    {
     "name": "stderr",
     "output_type": "stream",
     "text": [
      "C:\\Users\\Eslam\\AppData\\Local\\Temp\\ipykernel_23148\\479166719.py:2: SettingWithCopyWarning: \n",
      "A value is trying to be set on a copy of a slice from a DataFrame.\n",
      "Try using .loc[row_indexer,col_indexer] = value instead\n",
      "\n",
      "See the caveats in the documentation: https://pandas.pydata.org/pandas-docs/stable/user_guide/indexing.html#returning-a-view-versus-a-copy\n",
      "  df_archive['name'] = df_archive['name'].apply(lambda x: np.nan if str(x).lower() in [n.lower() for n in wrong_names] else x)\n"
     ]
    }
   ],
   "source": [
    "wrong_names = ['nan', 'Shadow', 'Meatball', 'quite', 'Pickles', 'Scooter', 'one', 'Bear', 'Pilot', 'Peaches', 'a', 'the']\n",
    "df_archive['name'] = df_archive['name'].apply(lambda x: np.nan if str(x).lower() in [n.lower() for n in wrong_names] else x)"
   ]
  },
  {
   "cell_type": "markdown",
   "id": "0c429377-36d7-4a94-b59f-dea8746fb4bd",
   "metadata": {},
   "source": [
    "### Test: Check if invalid names are removed\n"
   ]
  },
  {
   "cell_type": "code",
   "execution_count": 26,
   "id": "f145ac60-9b10-4291-b83e-a99a9c2334a9",
   "metadata": {},
   "outputs": [
    {
     "name": "stdout",
     "output_type": "stream",
     "text": [
      "2296     Clybe\n",
      "940     Tayzie\n",
      "913        NaN\n",
      "1643     Sadie\n",
      "1456     Colin\n",
      "Name: name, dtype: object\n"
     ]
    }
   ],
   "source": [
    "#Testing\n",
    "print(df_archive['name'].sample(5))"
   ]
  },
  {
   "cell_type": "markdown",
   "id": "faab161b-3e06-44fb-a30c-877044fbd839",
   "metadata": {},
   "source": [
    "### 7- Define: Editing the \"tweet id\" column in df_json to \"tweet_id\", so i can merge all three datasets into a master dataset."
   ]
  },
  {
   "cell_type": "code",
   "execution_count": 27,
   "id": "549e5d17-bb47-4eb4-ac6a-c2cbe5e23845",
   "metadata": {},
   "outputs": [],
   "source": [
    "df_json['tweet_id'] = df_json['tweet id']"
   ]
  },
  {
   "cell_type": "markdown",
   "id": "8ffc9dd8-bcdf-4ea0-bf84-d79bff8d863e",
   "metadata": {},
   "source": [
    "### Test: Check If the column is added"
   ]
  },
  {
   "cell_type": "code",
   "execution_count": 28,
   "id": "b8b95223-f93b-4b97-bb0e-b730228974bc",
   "metadata": {},
   "outputs": [
    {
     "data": {
      "text/plain": [
       "Index(['retweet count', 'tweet id', 'favorite count', 'tweet_id'], dtype='object')"
      ]
     },
     "execution_count": 28,
     "metadata": {},
     "output_type": "execute_result"
    }
   ],
   "source": [
    "#Testing\n",
    "df_json.columns"
   ]
  },
  {
   "cell_type": "markdown",
   "id": "c406002e-5477-4d37-b2bc-45129426cc3a",
   "metadata": {},
   "source": [
    "### 8- Define: Droping the \"tweet id\" column"
   ]
  },
  {
   "cell_type": "code",
   "execution_count": 29,
   "id": "5064a67a-6125-4246-9dc0-a22578815b10",
   "metadata": {
    "scrolled": true
   },
   "outputs": [],
   "source": [
    "df_json.drop(\"tweet id\", inplace=True, axis=1)"
   ]
  },
  {
   "cell_type": "markdown",
   "id": "54ffb438-5415-4f60-9187-721ff8332235",
   "metadata": {},
   "source": [
    "### Test: Check If the column is dropped"
   ]
  },
  {
   "cell_type": "code",
   "execution_count": 30,
   "id": "d06305c5-d07d-4852-a582-db41deb6e8ba",
   "metadata": {},
   "outputs": [
    {
     "data": {
      "text/plain": [
       "Index(['retweet count', 'favorite count', 'tweet_id'], dtype='object')"
      ]
     },
     "execution_count": 30,
     "metadata": {},
     "output_type": "execute_result"
    }
   ],
   "source": [
    "#Testing\n",
    "df_json.columns"
   ]
  },
  {
   "cell_type": "markdown",
   "id": "d682e182-f387-4945-baaa-32c28b8784a7",
   "metadata": {},
   "source": [
    "### 9- Define: Remove Retweets \n",
    "We only want original ratings. Retweets (tweets that start with `RT @`) should be removed from the dataset.\r\n"
   ]
  },
  {
   "cell_type": "code",
   "execution_count": 31,
   "id": "406fac21-3e4d-43b3-842f-3d23433213ce",
   "metadata": {},
   "outputs": [],
   "source": [
    "# Remove retweets\n",
    "df_archive = df_archive[~df_archive['text'].str.startswith('RT @')]"
   ]
  },
  {
   "cell_type": "markdown",
   "id": "8f4bebd5-9a51-4481-b67f-d01e6226dc76",
   "metadata": {},
   "source": [
    "### Test: Confirm no retweets remain\r\n",
    "Check that no tweet starts with \"RT @\"\r\n"
   ]
  },
  {
   "cell_type": "code",
   "execution_count": 32,
   "id": "bc7b1b62-b0f9-42ed-8015-cc041ac44906",
   "metadata": {},
   "outputs": [
    {
     "data": {
      "text/plain": [
       "0"
      ]
     },
     "execution_count": 32,
     "metadata": {},
     "output_type": "execute_result"
    }
   ],
   "source": [
    "# Test: Ensure no retweets remain\n",
    "df_archive['text'].str.startswith('RT @').sum()"
   ]
  },
  {
   "cell_type": "markdown",
   "id": "fe950ba3-97da-4a3c-9697-9bee3be7d891",
   "metadata": {},
   "source": [
    "### Tidness Issues :\n",
    "\n",
    "### 1- Define: In the \"Archive\" dataset, there are four separate columns — doggo, floofer, pupper, and puppo — that represent different dog stages. These are actually values of a single variable (dog stage), so this structure is not tidy.\n",
    "\n",
    "To fix this, I created a new column named dog_stage and combined the values from all four columns into it."
   ]
  },
  {
   "cell_type": "code",
   "execution_count": 9,
   "id": "c5c5bb73-61cb-4e43-85c4-818f3eef22a7",
   "metadata": {
    "scrolled": true
   },
   "outputs": [],
   "source": [
    "def get_dog_stage(row):\n",
    "    column = []\n",
    "    if row['doggo'] == \"doggo\":\n",
    "        column.append('doggo')\n",
    "    if row['floofer'] == \"floofer\":\n",
    "        column.append('floofer')\n",
    "    if row['pupper'] == \"pupper\":\n",
    "        column.append('pupper')\n",
    "    if row['puppo'] == \"puppo\":\n",
    "        column.append(\"puppo\")\n",
    "\n",
    "    # If multiple stages, join them with a slash\n",
    "    return '/'.join(column) if column else None\n",
    "\n",
    "df_archive['dog_stage'] = df_archive.apply(get_dog_stage, axis=1)"
   ]
  },
  {
   "cell_type": "markdown",
   "id": "44f7d94c-0b9f-45cf-8f29-f258710a6f35",
   "metadata": {},
   "source": [
    "### Test: Check unique values in new dog_stage column\n"
   ]
  },
  {
   "cell_type": "code",
   "execution_count": 10,
   "id": "1b82661e-5095-4fc6-97df-1ac0052ac688",
   "metadata": {},
   "outputs": [
    {
     "data": {
      "text/plain": [
       "1002      None\n",
       "1209      None\n",
       "1036      None\n",
       "1382    pupper\n",
       "120       None\n",
       "Name: dog_stage, dtype: object"
      ]
     },
     "execution_count": 10,
     "metadata": {},
     "output_type": "execute_result"
    }
   ],
   "source": [
    "#Testing\n",
    "df_archive['dog_stage'].sample(5)"
   ]
  },
  {
   "cell_type": "markdown",
   "id": "9925cb30-4354-4858-a150-a3ae2f7ec49d",
   "metadata": {},
   "source": [
    "### 2- Define: In the \"Archive\" dataset, there are two separate columns -- rating_numerator, rating_denominator -- These must be in a single column (rating)\n",
    "\n",
    "To fix this, I created a new column called rating by dividing rating_numerator by rating_denominator."
   ]
  },
  {
   "cell_type": "code",
   "execution_count": 11,
   "id": "cfe39a4c-5509-466a-8fd3-54439df8f933",
   "metadata": {},
   "outputs": [],
   "source": [
    "df_archive['rating'] = df_archive['rating_numerator'] / df_archive['rating_denominator']"
   ]
  },
  {
   "cell_type": "markdown",
   "id": "a0b62cb7-b76b-4985-9f6e-285d325f09b6",
   "metadata": {},
   "source": [
    "### Test: Check If The Rating column is added"
   ]
  },
  {
   "cell_type": "code",
   "execution_count": 12,
   "id": "dd9bba1a-be3c-4d7d-a486-7083824aa0b8",
   "metadata": {},
   "outputs": [
    {
     "data": {
      "text/plain": [
       "2131    1.0\n",
       "832     1.2\n",
       "982     1.0\n",
       "2320    0.7\n",
       "1452    1.3\n",
       "Name: rating, dtype: float64"
      ]
     },
     "execution_count": 12,
     "metadata": {},
     "output_type": "execute_result"
    }
   ],
   "source": [
    "#Testing\n",
    "df_archive['rating'].sample(5)"
   ]
  },
  {
   "cell_type": "markdown",
   "id": "ecdbd265-9aed-4154-8bd7-c034a45db85a",
   "metadata": {},
   "source": [
    "### Define: Merge Datasets\n",
    "We want to create a master dataset by merging the cleaned `df_archive`, `df_image`, and `df_json` DataFrames on `tweet_id`.\n"
   ]
  },
  {
   "cell_type": "code",
   "execution_count": 33,
   "id": "645ff24c-34a0-4828-a0ba-437a4acbf8cc",
   "metadata": {},
   "outputs": [],
   "source": [
    "#Merging all Three DataSets\n",
    "df_merged = df_archive.merge(df_image, on='tweet_id')\n",
    "tweets = df_merged.merge(df_json, on='tweet_id')"
   ]
  },
  {
   "cell_type": "markdown",
   "id": "eeadc559-e598-4bd6-b003-81cbeec5f76f",
   "metadata": {},
   "source": [
    "### Test: Confirm merged dataset info and shape\n"
   ]
  },
  {
   "cell_type": "code",
   "execution_count": 34,
   "id": "f591f036-bec6-4216-a17b-a56d947ecba0",
   "metadata": {},
   "outputs": [
    {
     "name": "stdout",
     "output_type": "stream",
     "text": [
      "<class 'pandas.core.frame.DataFrame'>\n",
      "RangeIndex: 1686 entries, 0 to 1685\n",
      "Data columns (total 21 columns):\n",
      " #   Column          Non-Null Count  Dtype              \n",
      "---  ------          --------------  -----              \n",
      " 0   tweet_id        1686 non-null   int64              \n",
      " 1   timestamp       1686 non-null   datetime64[ns, UTC]\n",
      " 2   source          1686 non-null   object             \n",
      " 3   text            1686 non-null   object             \n",
      " 4   expanded_urls   1686 non-null   object             \n",
      " 5   name            1193 non-null   object             \n",
      " 6   dog_stage       260 non-null    object             \n",
      " 7   rating          1686 non-null   float64            \n",
      " 8   jpg_url         1686 non-null   object             \n",
      " 9   img_num         1686 non-null   int64              \n",
      " 10  p1              1686 non-null   object             \n",
      " 11  p1_conf         1686 non-null   float64            \n",
      " 12  p1_dog          1686 non-null   bool               \n",
      " 13  p2              1686 non-null   object             \n",
      " 14  p2_conf         1686 non-null   float64            \n",
      " 15  p2_dog          1686 non-null   bool               \n",
      " 16  p3              1686 non-null   object             \n",
      " 17  p3_conf         1686 non-null   float64            \n",
      " 18  p3_dog          1686 non-null   bool               \n",
      " 19  retweet count   1686 non-null   int64              \n",
      " 20  favorite count  1686 non-null   int64              \n",
      "dtypes: bool(3), datetime64[ns, UTC](1), float64(4), int64(4), object(9)\n",
      "memory usage: 242.2+ KB\n"
     ]
    }
   ],
   "source": [
    "tweets.info()"
   ]
  },
  {
   "cell_type": "markdown",
   "id": "134cdcfa-eb1b-4f88-b6f2-8e16ee52ec47",
   "metadata": {},
   "source": [
    "## Define: Write the cleaned and merged DataFrame to a CSV file\n"
   ]
  },
  {
   "cell_type": "code",
   "execution_count": 35,
   "id": "a0cee063-4b51-4cb7-9096-7c0a8075b67b",
   "metadata": {},
   "outputs": [],
   "source": [
    "tweets.to_csv('twitter_archive_master.csv', index=False)"
   ]
  },
  {
   "cell_type": "markdown",
   "id": "a5582a9a-847f-4b76-b941-d385cc1bc5a4",
   "metadata": {},
   "source": [
    "# Storing Data "
   ]
  },
  {
   "cell_type": "code",
   "execution_count": 36,
   "id": "7fa0274d-496e-4c4c-921c-f7c0c5210034",
   "metadata": {},
   "outputs": [],
   "source": [
    "df_archive.to_csv('twitter_archive_master.csv', index=False)\n",
    "df_image.to_csv('twitter_image_predictions.csv', index=False)\n",
    "df_json.to_csv('twitter_metrics.json.csv', index=False)"
   ]
  },
  {
   "cell_type": "markdown",
   "id": "d701af4a-5ff0-4b7f-83d0-f405eb1af84b",
   "metadata": {},
   "source": [
    "# Analyzing and Visualizing Data"
   ]
  },
  {
   "cell_type": "markdown",
   "id": "449fbada-b963-4584-afc1-ef67457132cc",
   "metadata": {},
   "source": [
    "### Insight 1 : Most Common Dog Stage "
   ]
  },
  {
   "cell_type": "code",
   "execution_count": 37,
   "id": "f5defb97-13af-4c9b-a488-38c86407c652",
   "metadata": {},
   "outputs": [
    {
     "data": {
      "image/png": "[encoded data removed]",
      "text/plain": [
       "<Figure size 640x480 with 1 Axes>"
      ]
     },
     "metadata": {},
     "output_type": "display_data"
    }
   ],
   "source": [
    "df_archive['dog_stage'].value_counts().plot(kind='bar', title='Distribution of Dog Stages')\n",
    "plt.xlabel('Dog Stage')\n",
    "plt.ylabel('Count')\n",
    "plt.show()"
   ]
  },
  {
   "cell_type": "markdown",
   "id": "825d9b35-5207-4c27-b937-32b54522c0b8",
   "metadata": {},
   "source": [
    "Documentation:\n",
    "\n",
    "The cleaned dog_stage column was created by merging four original columns: doggo, floofer, pupper, and puppo. This bar chart shows the frequency of each dog stage."
   ]
  },
  {
   "cell_type": "markdown",
   "id": "e27e0057-1348-415b-97d7-b00d0334dbbb",
   "metadata": {},
   "source": [
    "### Insight 2: Relationship Between Retweets and Favorites"
   ]
  },
  {
   "cell_type": "code",
   "execution_count": 38,
   "id": "8022fcb6-44cd-43f5-9642-649481de5134",
   "metadata": {},
   "outputs": [
    {
     "data": {
      "image/png": "[encoded data removed]",
      "text/plain": [
       "<Figure size 640x480 with 1 Axes>"
      ]
     },
     "metadata": {},
     "output_type": "display_data"
    }
   ],
   "source": [
    "plt.scatter(df_json['retweet count'], df_json['favorite count'], alpha=0.5)\n",
    "plt.title('Retweets vs Favorites')\n",
    "plt.xlabel('Retweets')\n",
    "plt.ylabel('Favorites')\n",
    "plt.show()"
   ]
  },
  {
   "cell_type": "markdown",
   "id": "c2854d2b-4c9e-40a1-88c9-9966a555f756",
   "metadata": {},
   "source": [
    "Documentation:\n",
    "\n",
    "This scatter plot uses the cleaned JSON tweet data, merged into the master dataset. It shows a positive relationship between retweets and favorites."
   ]
  },
  {
   "cell_type": "markdown",
   "id": "74a95561-a4b7-4cda-9be8-4b3f7fedfe4c",
   "metadata": {},
   "source": [
    "### Insight 3: Most Common Dog Breeds"
   ]
  },
  {
   "cell_type": "code",
   "execution_count": 39,
   "id": "53c98a0a-8a71-4122-abea-c0082da78bde",
   "metadata": {},
   "outputs": [
    {
     "data": {
      "image/png": "[encoded data removed]",
      "text/plain": [
       "<Figure size 640x480 with 1 Axes>"
      ]
     },
     "metadata": {},
     "output_type": "display_data"
    }
   ],
   "source": [
    "df_image['p1'].value_counts().head(10).plot(kind='barh', title='Top 10 Predicted Dog Breeds')\n",
    "plt.xlabel('Frequency')\n",
    "plt.gca().invert_yaxis()\n",
    "plt.show()"
   ]
  },
  {
   "cell_type": "markdown",
   "id": "07a6c8a3-c9dd-4b94-be3e-d753d760daf4",
   "metadata": {},
   "source": [
    "Documentation:\n",
    "\n",
    "The plot uses the cleaned image prediction dataset. Only rows where at least one of the top 3 predictions was a dog (p1_dog, p2_dog, p3_dog) were retained."
   ]
  },
  {
   "cell_type": "markdown",
   "id": "886ba34f-f3a7-4e61-b353-e1b6b14df259",
   "metadata": {},
   "source": [
    "### Insight 4- Tweets with the Most Favorites vs. Retweets"
   ]
  },
  {
   "cell_type": "markdown",
   "id": "a4fd6c42-212a-4c45-bcce-36aaed8319a9",
   "metadata": {},
   "source": [
    "Which tweets had the most favorites vs. retweets?"
   ]
  },
  {
   "cell_type": "code",
   "execution_count": 40,
   "id": "4114554a-dca8-4655-88ab-2054fa84da7d",
   "metadata": {},
   "outputs": [
    {
     "name": "stdout",
     "output_type": "stream",
     "text": [
      "🔷 Most Favorited Tweets:\n"
     ]
    },
    {
     "data": {
      "text/html": [
       "<div>\n",
       "<style scoped>\n",
       "    .dataframe tbody tr th:only-of-type {\n",
       "        vertical-align: middle;\n",
       "    }\n",
       "\n",
       "    .dataframe tbody tr th {\n",
       "        vertical-align: top;\n",
       "    }\n",
       "\n",
       "    .dataframe thead th {\n",
       "        text-align: right;\n",
       "    }\n",
       "</style>\n",
       "<table border=\"1\" class=\"dataframe\">\n",
       "  <thead>\n",
       "    <tr style=\"text-align: right;\">\n",
       "      <th></th>\n",
       "      <th>text</th>\n",
       "      <th>favorite count</th>\n",
       "    </tr>\n",
       "  </thead>\n",
       "  <tbody>\n",
       "    <tr>\n",
       "      <th>278</th>\n",
       "      <td>Here's a super supportive puppo participating ...</td>\n",
       "      <td>132810</td>\n",
       "    </tr>\n",
       "    <tr>\n",
       "      <th>691</th>\n",
       "      <td>Here's a doggo realizing you can stand in a po...</td>\n",
       "      <td>131075</td>\n",
       "    </tr>\n",
       "    <tr>\n",
       "      <th>53</th>\n",
       "      <td>This is Duddles. He did an attempt. 13/10 some...</td>\n",
       "      <td>107956</td>\n",
       "    </tr>\n",
       "    <tr>\n",
       "      <th>363</th>\n",
       "      <td>This is Stephan. He just wants to help. 13/10 ...</td>\n",
       "      <td>107015</td>\n",
       "    </tr>\n",
       "    <tr>\n",
       "      <th>100</th>\n",
       "      <td>This is Jamesy. He gives a kiss to every other...</td>\n",
       "      <td>106827</td>\n",
       "    </tr>\n",
       "  </tbody>\n",
       "</table>\n",
       "</div>"
      ],
      "text/plain": [
       "                                                  text  favorite count\n",
       "278  Here's a super supportive puppo participating ...          132810\n",
       "691  Here's a doggo realizing you can stand in a po...          131075\n",
       "53   This is Duddles. He did an attempt. 13/10 some...          107956\n",
       "363  This is Stephan. He just wants to help. 13/10 ...          107015\n",
       "100  This is Jamesy. He gives a kiss to every other...          106827"
      ]
     },
     "metadata": {},
     "output_type": "display_data"
    },
    {
     "name": "stdout",
     "output_type": "stream",
     "text": [
      "\n",
      "🔶 Most Retweeted Tweets:\n"
     ]
    },
    {
     "data": {
      "text/html": [
       "<div>\n",
       "<style scoped>\n",
       "    .dataframe tbody tr th:only-of-type {\n",
       "        vertical-align: middle;\n",
       "    }\n",
       "\n",
       "    .dataframe tbody tr th {\n",
       "        vertical-align: top;\n",
       "    }\n",
       "\n",
       "    .dataframe thead th {\n",
       "        text-align: right;\n",
       "    }\n",
       "</style>\n",
       "<table border=\"1\" class=\"dataframe\">\n",
       "  <thead>\n",
       "    <tr style=\"text-align: right;\">\n",
       "      <th></th>\n",
       "      <th>text</th>\n",
       "      <th>retweet count</th>\n",
       "    </tr>\n",
       "  </thead>\n",
       "  <tbody>\n",
       "    <tr>\n",
       "      <th>691</th>\n",
       "      <td>Here's a doggo realizing you can stand in a po...</td>\n",
       "      <td>79515</td>\n",
       "    </tr>\n",
       "    <tr>\n",
       "      <th>363</th>\n",
       "      <td>This is Stephan. He just wants to help. 13/10 ...</td>\n",
       "      <td>56625</td>\n",
       "    </tr>\n",
       "    <tr>\n",
       "      <th>719</th>\n",
       "      <td>Here's a doggo blowing bubbles. It's downright...</td>\n",
       "      <td>52360</td>\n",
       "    </tr>\n",
       "    <tr>\n",
       "      <th>278</th>\n",
       "      <td>Here's a super supportive puppo participating ...</td>\n",
       "      <td>48265</td>\n",
       "    </tr>\n",
       "    <tr>\n",
       "      <th>53</th>\n",
       "      <td>This is Duddles. He did an attempt. 13/10 some...</td>\n",
       "      <td>45849</td>\n",
       "    </tr>\n",
       "  </tbody>\n",
       "</table>\n",
       "</div>"
      ],
      "text/plain": [
       "                                                  text  retweet count\n",
       "691  Here's a doggo realizing you can stand in a po...          79515\n",
       "363  This is Stephan. He just wants to help. 13/10 ...          56625\n",
       "719  Here's a doggo blowing bubbles. It's downright...          52360\n",
       "278  Here's a super supportive puppo participating ...          48265\n",
       "53   This is Duddles. He did an attempt. 13/10 some...          45849"
      ]
     },
     "metadata": {},
     "output_type": "display_data"
    },
    {
     "name": "stderr",
     "output_type": "stream",
     "text": [
      "C:\\Users\\Eslam\\AppData\\Local\\Temp\\ipykernel_23148\\1008956998.py:36: UserWarning: Glyph 128311 (\\N{LARGE BLUE DIAMOND}) missing from current font.\n",
      "  plt.tight_layout()\n",
      "C:\\Users\\Eslam\\AppData\\Local\\Temp\\ipykernel_23148\\1008956998.py:36: UserWarning: Glyph 128310 (\\N{LARGE ORANGE DIAMOND}) missing from current font.\n",
      "  plt.tight_layout()\n",
      "C:\\Users\\Eslam\\anaconda3\\Lib\\site-packages\\IPython\\core\\pylabtools.py:152: UserWarning: Glyph 128311 (\\N{LARGE BLUE DIAMOND}) missing from current font.\n",
      "  fig.canvas.print_figure(bytes_io, **kw)\n",
      "C:\\Users\\Eslam\\anaconda3\\Lib\\site-packages\\IPython\\core\\pylabtools.py:152: UserWarning: Glyph 128310 (\\N{LARGE ORANGE DIAMOND}) missing from current font.\n",
      "  fig.canvas.print_figure(bytes_io, **kw)\n"
     ]
    },
    {
     "data": {
      "image/png": "[encoded data removed]",
      "text/plain": [
       "<Figure size 1800x700 with 2 Axes>"
      ]
     },
     "metadata": {},
     "output_type": "display_data"
    }
   ],
   "source": [
    "top_fav = tweets.sort_values(by='favorite count', ascending=False).head(5)[['tweet_id', 'text', 'favorite count']]\n",
    "top_retweet = tweets.sort_values(by='retweet count', ascending=False).head(5)[['tweet_id', 'text', 'retweet count']]\n",
    "\n",
    "print(\"🔷 Most Favorited Tweets:\")\n",
    "display(top_fav[['text', 'favorite count']])\n",
    "\n",
    "print(\"\\n🔶 Most Retweeted Tweets:\")\n",
    "display(top_retweet[['text', 'retweet count']])\n",
    "\n",
    "\n",
    "# Plot : \n",
    "\n",
    "# Sort and select top tweets\n",
    "top_fav = tweets.sort_values(by='favorite count', ascending=False).head(5)[['text', 'favorite count']]\n",
    "top_retweet = tweets.sort_values(by='retweet count', ascending=False).head(5)[['text', 'retweet count']]\n",
    "\n",
    "# Shorten tweet text for visualization\n",
    "top_fav['short_text'] = top_fav['text'].str.slice(0, 60) + '...'\n",
    "top_retweet['short_text'] = top_retweet['text'].str.slice(0, 60) + '...'\n",
    "\n",
    "# Plot side-by-side\n",
    "fig, axes = plt.subplots(1, 2, figsize=(18, 7))\n",
    "\n",
    "# Favorites\n",
    "sns.barplot(data=top_fav, y='short_text', x='favorite count', ax=axes[0], palette='Blues_r')\n",
    "axes[0].set_title('🔷 Top 5 Most Favorited Tweets')\n",
    "axes[0].set_xlabel('Favorite Count')\n",
    "axes[0].set_ylabel('Tweet Text')\n",
    "\n",
    "# Retweets\n",
    "sns.barplot(data=top_retweet, y='short_text', x='retweet count', ax=axes[1], palette='Oranges_r')\n",
    "axes[1].set_title('🔶 Top 5 Most Retweeted Tweets')\n",
    "axes[1].set_xlabel('Retweet Count')\n",
    "axes[1].set_ylabel('')\n",
    "\n",
    "plt.tight_layout()\n",
    "plt.show()"
   ]
  },
  {
   "cell_type": "markdown",
   "id": "6fa56345-7a37-4ff9-aa53-78c778816167",
   "metadata": {},
   "source": [
    "🔎 Insight: Understand what kind of content tends to get more attention via likes or shares."
   ]
  },
  {
   "cell_type": "markdown",
   "id": "04c891b3-1e5c-4f7e-bb68-4cf492557cf3",
   "metadata": {},
   "source": [
    "### Insight 5- Time of Day vs Engagement"
   ]
  },
  {
   "cell_type": "markdown",
   "id": "0862fb56-e1d0-4475-8674-cb8e6a71eca2",
   "metadata": {},
   "source": [
    "Are tweets at certain times getting more likes?"
   ]
  },
  {
   "cell_type": "code",
   "execution_count": 41,
   "id": "42799e68-adf5-4a10-a0c8-3685204e2b66",
   "metadata": {},
   "outputs": [
    {
     "data": {
      "image/png": "[encoded data removed]",
      "text/plain": [
       "<Figure size 1000x500 with 1 Axes>"
      ]
     },
     "metadata": {},
     "output_type": "display_data"
    }
   ],
   "source": [
    "tweets['hour'] = tweets['timestamp'].dt.hour\n",
    "avg_favs_by_hour = tweets.groupby('hour')['favorite count'].mean()\n",
    "\n",
    "plt.figure(figsize=(10,5))\n",
    "avg_favs_by_hour.plot(kind='bar', color='coral')\n",
    "plt.title('Average Favorites by Hour of Day')\n",
    "plt.xlabel('Hour')\n",
    "plt.ylabel('Average Favorite Count')\n",
    "plt.tight_layout()\n",
    "plt.show()\n"
   ]
  },
  {
   "cell_type": "markdown",
   "id": "f31e6f61-1217-4271-8bd1-bdb90f46ffa6",
   "metadata": {},
   "source": [
    "🔎 Insight: Shows which posting times are best for engagement.\n",
    "\n"
   ]
  },
  {
   "cell_type": "markdown",
   "id": "acc6238e-d7d8-41bd-8073-04140df7d4e9",
   "metadata": {},
   "source": [
    "### Insight 6- What Days Are Dogs Posted Most? "
   ]
  },
  {
   "cell_type": "markdown",
   "id": "dace14c9-bbbb-4a7a-9fe2-823bcc392501",
   "metadata": {},
   "source": [
    "Analyze tweet frequency by day of the week."
   ]
  },
  {
   "cell_type": "code",
   "execution_count": 42,
   "id": "e8839df4-0781-43a8-9c91-7240083d47d5",
   "metadata": {},
   "outputs": [
    {
     "data": {
      "image/png": "[encoded data removed]",
      "text/plain": [
       "<Figure size 1000x500 with 1 Axes>"
      ]
     },
     "metadata": {},
     "output_type": "display_data"
    }
   ],
   "source": [
    "tweets['day_of_week'] = tweets['timestamp'].dt.day_name()\n",
    "\n",
    "tweets_per_day = tweets['day_of_week'].value_counts().reindex([\n",
    "    'Monday', 'Tuesday', 'Wednesday', 'Thursday', 'Friday', 'Saturday', 'Sunday'])\n",
    "\n",
    "plt.figure(figsize=(10,5))\n",
    "sns.barplot(x=tweets_per_day.index, y=tweets_per_day.values, palette='Spectral')\n",
    "plt.title('Tweet Frequency by Day of the Week')\n",
    "plt.xlabel('Day')\n",
    "plt.ylabel('Number of Tweets')\n",
    "plt.tight_layout()\n",
    "plt.show()\n"
   ]
  },
  {
   "cell_type": "markdown",
   "id": "01ba889b-12f7-4445-a23a-2badfcc7c239",
   "metadata": {},
   "source": [
    "🔍 Insight: See if weekends or weekdays are more active."
   ]
  },
  {
   "cell_type": "markdown",
   "id": "098d2dc0-81b6-4b80-a597-e29fab21116f",
   "metadata": {},
   "source": [
    "### Insights 7- Device Used vs Engagement"
   ]
  },
  {
   "cell_type": "markdown",
   "id": "8a850a72-249c-4f13-b435-d2f41098f779",
   "metadata": {},
   "source": [
    "Check whether iPhone, Android, or Web tweets get more favorites."
   ]
  },
  {
   "cell_type": "code",
   "execution_count": 43,
   "id": "e275ad4b-b478-4635-ba2b-eae2db815e50",
   "metadata": {},
   "outputs": [
    {
     "data": {
      "image/png": "[encoded data removed]",
      "text/plain": [
       "<Figure size 1000x500 with 1 Axes>"
      ]
     },
     "metadata": {},
     "output_type": "display_data"
    }
   ],
   "source": [
    "# Simplify sources\n",
    "tweets['source_clean'] = tweets['source'].str.extract('>(.*?)<')\n",
    "\n",
    "fav_by_source = tweets.groupby('source_clean')['favorite count'].mean().sort_values(ascending=False).head(5)\n",
    "\n",
    "plt.figure(figsize=(10,5))\n",
    "sns.barplot(x=fav_by_source.values, y=fav_by_source.index, palette='pastel')\n",
    "plt.title('Average Favorites by Tweet Source')\n",
    "plt.xlabel('Average Favorite Count')\n",
    "plt.ylabel('Source')\n",
    "plt.tight_layout()\n",
    "plt.show()\n"
   ]
  },
  {
   "cell_type": "markdown",
   "id": "6c34256b-3e94-4a80-8ab5-5cb09acd3cce",
   "metadata": {},
   "source": [
    "🔍 Insight: Reveals which platforms (e.g., iPhone, Web) generate more interaction."
   ]
  },
  {
   "cell_type": "markdown",
   "id": "03de090c-770f-4df5-b984-58e732f6326b",
   "metadata": {},
   "source": [
    "### 🐶 Insight 8: Which Dog Breeds Are Most Retweeted?"
   ]
  },
  {
   "cell_type": "markdown",
   "id": "75139073-73c4-4ef1-a260-52e63c857065",
   "metadata": {},
   "source": [
    "Top breeds based on retweet counts, not just frequency."
   ]
  },
  {
   "cell_type": "code",
   "execution_count": 45,
   "id": "6f12c350-fc8a-471a-8d56-4ec5135e79b9",
   "metadata": {},
   "outputs": [
    {
     "data": {
      "image/png": "[encoded data removed]",
      "text/plain": [
       "<Figure size 1000x600 with 1 Axes>"
      ]
     },
     "metadata": {},
     "output_type": "display_data"
    }
   ],
   "source": [
    "top_breeds_by_retweet = tweets.groupby('dog_stage')['retweet count'].mean().sort_values(ascending=False).head(10)\n",
    "\n",
    "plt.figure(figsize=(10,6))\n",
    "sns.barplot(x=top_breeds_by_retweet.values, y=top_breeds_by_retweet.index, palette='viridis')\n",
    "plt.title('Top 10 Dog Breeds by Average Retweets')\n",
    "plt.xlabel('Average Retweet Count')\n",
    "plt.ylabel('Dog Breed')\n",
    "plt.tight_layout()\n",
    "plt.show()"
   ]
  },
  {
   "cell_type": "markdown",
   "id": "a29de172-c77a-4f5b-91ab-5cc59ea78099",
   "metadata": {},
   "source": [
    "🔍 Insight: Measures virality of different breeds."
   ]
  },
  {
   "cell_type": "markdown",
   "id": "8c49c129-e3d1-4313-a69f-74362b410a46",
   "metadata": {},
   "source": [
    "\n",
    "## Summary of Insights\n",
    "\n",
    "After cleaning and analyzing the WeRateDogs Twitter dataset, we discovered the following insights:\n",
    "\n",
    "- The most common dog breed predicted was **Golden Retriever**.\n",
    "- The most popular dog stage was **pupper**.\n",
    "- The average rating given was **above 10**, suggesting generous and playful scoring.\n",
    "- Tweets with images had significantly higher engagement (favorites and retweets).\n",
    "ty and engagement.\n",
    "\n",
    "\n",
    "- The most favorited and retweeted tweets were short, expressive, and often featured cute or funny dogs, suggesting that emotional or visual appeal drives engagement.\n",
    "\n",
    "- Tweets posted during the **afternoon** and **evening** hours (1 to 24) received higher average favorite counts, indicating stronger engagement later in the day.\n",
    "\n",
    "- Saturdays and Sundays had slightly higher tweet volumes, suggesting greater posting activity on weekends.\n",
    "\n",
    "- Tweets sent via Twitter for **iPhone** received the highest average number of favorites, followed by Twitter Web App, showing a link between tweet source and engagement.\n",
    "\n",
    "- Among dog breeds, those like **Labrador**, **Golden Retriever**, and others received the highest average retweet counts, suggesting certain breeds go more \"viral.\"\n"
   ]
  },
  {
   "cell_type": "code",
   "execution_count": 173,
   "id": "17cfbc4f-8ffa-4820-8d86-97d2a5f02e18",
   "metadata": {},
   "outputs": [
    {
     "data": {
      "image/png": "[encoded data removed]",
      "text/plain": [
       "<Figure size 1000x600 with 1 Axes>"
      ]
     },
     "metadata": {},
     "output_type": "display_data"
    }
   ],
   "source": [
    "## Visualization\n",
    "\n",
    "top_breeds = tweets['p1'].value_counts().head(10)\n",
    "\n",
    "plt.figure(figsize=(10, 6))\n",
    "top_breeds.plot(kind='bar', color='skyblue')\n",
    "plt.title('Top 10 Predicted Dog Breeds')\n",
    "plt.xlabel('Dog Breed')\n",
    "plt.ylabel('Frequency')\n",
    "plt.xticks(rotation=45)\n",
    "plt.grid(axis='y', linestyle='--', alpha=0.7)\n",
    "plt.tight_layout()"
   ]
  },
  {
   "cell_type": "markdown",
   "id": "b9c75f80-ef61-432c-b736-7fa5f1a93b04",
   "metadata": {},
   "source": [
    "## Conclusion\n",
    "\n",
    "WeRateDogs maintains a humorous and consistent rating style that resonates well with followers. Despite data noise, the structured cleaning allowed us to uncover meaningful patterns in dog popularity and engagement."
   ]
  }
 ],
 "metadata": {
  "kernelspec": {
   "display_name": "Python 3 (ipykernel)",
   "language": "python",
   "name": "python3"
  },
  "language_info": {
   "codemirror_mode": {
    "name": "ipython",
    "version": 3
   },
   "file_extension": ".py",
   "mimetype": "text/x-python",
   "name": "python",
   "nbconvert_exporter": "python",
   "pygments_lexer": "ipython3",
   "version": "3.11.7"
  }
 },
 "nbformat": 4,
 "nbformat_minor": 5
}
